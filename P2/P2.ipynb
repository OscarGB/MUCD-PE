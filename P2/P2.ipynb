{
 "cells": [
  {
   "cell_type": "markdown",
   "metadata": {},
   "source": [
    "# Óscar Gómez Borzdynski\n",
    "## Práctica 2\n",
    "### Procesos Estocásticos"
   ]
  },
  {
   "cell_type": "code",
   "execution_count": 33,
   "metadata": {},
   "outputs": [],
   "source": [
    "import intrf\n",
    "import markov\n",
    "import numpy as np\n",
    "import sys\n",
    "import math\n",
    "from random import uniform\n",
    "import seaborn as sns"
   ]
  },
  {
   "cell_type": "code",
   "execution_count": 12,
   "metadata": {},
   "outputs": [
    {
     "data": {
      "text/html": [
       "<style>\n",
       "    h1, h2, h3 {color: #3d6f91;}\n",
       "    b, li, ul {color: #5D8AA8;}\n",
       "</style>\n"
      ],
      "text/plain": [
       "<IPython.core.display.HTML object>"
      ]
     },
     "metadata": {},
     "output_type": "display_data"
    }
   ],
   "source": [
    "%%html\n",
    "<style>\n",
    "    h1, h2, h3 {color: #3d6f91;}\n",
    "    b, li, ul {color: #5D8AA8;}\n",
    "</style>"
   ]
  },
  {
   "cell_type": "markdown",
   "metadata": {},
   "source": [
    "## Métodos y clases previos\n",
    "\n",
    "Utilizamos la clase Markov proporcionada por el profesor y definimos un método auxiliar que devuelve la matriz de transición en función de los valores de p y q."
   ]
  },
  {
   "cell_type": "code",
   "execution_count": 13,
   "metadata": {},
   "outputs": [],
   "source": [
    "# Returns the Probability matrix for our graphs\n",
    "def get_PT(p=0.3, q=0.0):\n",
    "    return [[  1-p,    p,    0.0,    0.0,    0.0,    0.0], \n",
    "      [  0.0,  1-p,  p/2.0,    0.0,   p/2.0,   0.0],\n",
    "      [1/4.0,  0.0,  1/4.0,   1/4.0,  1/4.0,   0.0],\n",
    "      [    q,  0.0,    0.0,   0.9-q,    0.1,   0.0],\n",
    "      [  0.0,  0.0,    0.0,     0.0,  1/2.0, 1/2.0],\n",
    "      [  0.0,  0.0,    0.0,    1/4.0, 1/2.0, 1/4.0] \n",
    "            \n",
    "      ]\n",
    "#\n",
    "# This class implements a Markov chain. Upon creation, a transition\n",
    "# matrix and an initial state are given. The chain may be executed and\n",
    "# it keeps track of the probability that at time t it is in state m.\n",
    "#\n",
    "class Markov:\n",
    "\n",
    "    #\n",
    "    # Initialization function\n",
    "    #\n",
    "    def __init__(self, PT, m_ini):\n",
    "        self.PT = PT\n",
    "        self.nstate = len(PT[0])\n",
    "        self.state = m_ini\n",
    "        self.steps = 1      # Number of steps executed so far (for the \n",
    "                            # computation of averages)\n",
    "        self.count = self.nstate*[0]  # count of the times a state was visited\n",
    "        self.count[self.state] = 1\n",
    "\n",
    "    #\n",
    "    # Given a state and the transition probability matrix PT, determine a\n",
    "    # new state with the probabilities prescribed by the matrix. Returns\n",
    "    # the value of the new state.\n",
    "    #\n",
    "    def _transition(self, m):\n",
    "        p = self.PT[m]\n",
    "        u = uniform(0.0, 1.0)\n",
    "        a = 0\n",
    "        for k in range(len(p)):\n",
    "            a = a + p[k]\n",
    "            if u < a:\n",
    "                return k\n",
    "        return len(p)-1\n",
    "\n",
    "    #\n",
    "    # Makes a step of the Markov chain: generates a new state, updates\n",
    "    # the current state, the step counter and the state counter. \n",
    "    #\n",
    "    # Returns the new state of the chain\n",
    "    #\n",
    "    def step(self):\n",
    "        mnew = self._transition(self.state)\n",
    "        self.state = mnew\n",
    "        self.steps = self.steps+1\n",
    "        self.count[self.state] = self.count[self.state] + 1\n",
    "        return mnew"
   ]
  },
  {
   "cell_type": "markdown",
   "metadata": {},
   "source": [
    "# Ejercicio 1\n",
    "\n",
    "<b>Simular el funcionamiento de la cadena y hacer una estimacion de conjunto de $h^2_0$ y $h^5_0$ para $q = 0.1$ y $q= 0$.</b>\n",
    "\n",
    "Primero debemos definir una función que nos devuelva todos los $h$ en función del estado de entrada."
   ]
  },
  {
   "cell_type": "code",
   "execution_count": 14,
   "metadata": {},
   "outputs": [],
   "source": [
    "#\n",
    "# Runs a set of NC chains (with transition PT and initial state m_ini)\n",
    "# for a total of T steps and at the end returns probability of ever reaching each state\n",
    "#\n",
    "def set_run_h(NC, PT, m_ini, T):\n",
    "    chains = [Markov(PT, m_ini) for _ in range(NC)]\n",
    "    state_no = len(PT[0])\n",
    "    state = np.zeros((NC, state_no))\n",
    "    for k in range(NC):\n",
    "        state[k][m_ini] = 1\n",
    "    for t in range(T):\n",
    "        for k in range(NC):\n",
    "            state[k][chains[k].step()] = 1\n",
    "\n",
    "    return state.mean(axis=0)"
   ]
  },
  {
   "cell_type": "code",
   "execution_count": 15,
   "metadata": {},
   "outputs": [
    {
     "name": "stdout",
     "output_type": "stream",
     "text": [
      "q = 0.0, comenzando en el estado 0:\n",
      "h2 = 0.546, h5 = 1.0\n",
      "q = 0.1, comenzando en el estado 0:\n",
      "h2 = 1.0, h5 = 1.0\n"
     ]
    }
   ],
   "source": [
    "starting_at = 0\n",
    "q = 0.0\n",
    "print(f\"q = {q}, comenzando en el estado {starting_at}:\")\n",
    "h = set_run_h(1000, get_PT(q=q), starting_at, 1000)\n",
    "print(f\"h2 = {h[2]}, h5 = {h[5]}\")\n",
    "q = 0.1\n",
    "print(f\"q = {q}, comenzando en el estado {starting_at}:\")\n",
    "h = set_run_h(1000, get_PT(q=q), starting_at, 1000)\n",
    "print(f\"h2 = {h[2]}, h5 = {h[5]}\")"
   ]
  },
  {
   "cell_type": "markdown",
   "metadata": {},
   "source": [
    "Estos valores nos indican que con $q=0$, tenemos una clase absorbente que impide que la cadena pase por el estado $2$ en algunas de las cadenas de la simulación. Además podemos ver que el estado $5$ si pertenece a esa clase absorbente dado que la probabilidad de pasar por él es $1$.\n",
    "\n",
    "Con $q=1$ la clase anterior desaparece y por ello la cadena es capaz de volver al estado $2$, haciendo que su $h$ sea $1$."
   ]
  },
  {
   "cell_type": "markdown",
   "metadata": {},
   "source": [
    "# Ejercicio 2\n",
    "\n",
    "<b>Simular el funcionamiento de la cadena y hacer una estimacion de conjunto de $k^2_0$ y $k^2_4$ para $q = 0.1$ y $q= 0$.</b>\n",
    "\n",
    "Primero debemos definir una función que nos devuelva todos los $k$ en función del estado de entrada."
   ]
  },
  {
   "cell_type": "code",
   "execution_count": 42,
   "metadata": {},
   "outputs": [],
   "source": [
    "# Runs a set of NC chains (with transition PT and initial state m_ini)\n",
    "# for a total of T steps and at the end returns the mean time to reach each state\n",
    "#\n",
    "def set_run_k(NC, PT, m_ini, T):\n",
    "    chains = [Markov(PT, m_ini) for _ in range(NC)]\n",
    "    state_no = len(PT[0])\n",
    "    state = np.ones((NC, state_no)) * np.inf\n",
    "    for k in range(NC):\n",
    "        state[k][m_ini] = 0\n",
    "    for t in range(1,T+1):\n",
    "        for k in range(NC):\n",
    "            c = chains[k].step()\n",
    "            state[k][c] = t if state[k][c] == np.inf else state[k][c]\n",
    "\n",
    "    return state.mean(axis=0)"
   ]
  },
  {
   "cell_type": "code",
   "execution_count": 45,
   "metadata": {},
   "outputs": [
    {
     "name": "stdout",
     "output_type": "stream",
     "text": [
      "q = 0.0, comenzando en el estado 0:\n",
      "k2 = inf\n",
      "q = 0.1, comenzando en el estado 0:\n",
      "k2 = 40.788\n",
      "q = 0.0, comenzando en el estado 4:\n",
      "k2 = inf\n",
      "q = 0.1, comenzando en el estado 4:\n",
      "k2 = 70.309\n"
     ]
    }
   ],
   "source": [
    "starting_at = 0\n",
    "q = 0.0\n",
    "print(f\"q = {q}, comenzando en el estado {starting_at}:\")\n",
    "k = set_run_k(1000, get_PT(q=q), starting_at, 1000)\n",
    "print(f\"k2 = {k[2]}\")\n",
    "q = 0.1\n",
    "print(f\"q = {q}, comenzando en el estado {starting_at}:\")\n",
    "k = set_run_k(1000, get_PT(q=q), starting_at, 1000)\n",
    "print(f\"k2 = {k[2]}\")\n",
    "\n",
    "starting_at = 4\n",
    "q = 0.0\n",
    "print(f\"q = {q}, comenzando en el estado {starting_at}:\")\n",
    "k = set_run_k(1000, get_PT(q=q), starting_at, 1000)\n",
    "print(f\"k2 = {k[2]}\")\n",
    "q = 0.1\n",
    "print(f\"q = {q}, comenzando en el estado {starting_at}:\")\n",
    "k = set_run_k(1000, get_PT(q=q), starting_at, 1000)\n",
    "print(f\"k2 = {k[2]}\")"
   ]
  },
  {
   "cell_type": "markdown",
   "metadata": {},
   "source": [
    "Podemos ver que obtenemos valores $k$ infinitos, esto se debe a que la media de un conjunto cuando uno de los valores es infinito es infinito. Cuando una cadena no pasa por el estado $n$, el tiempo necesario para llegar a ese estado es inifinito. Dado que, como hemos visto en el ejercicio anterior, la probabilidad de llegar al estado $2$ no es $1$ para $q=0$, es posible que una cadena del conjunto no llegue a pasar por él y por tanto se le asigne un tiempo inifinito."
   ]
  },
  {
   "cell_type": "markdown",
   "metadata": {},
   "source": [
    "# Ejercicio 3\n",
    "\n",
    "<b>Usar el sistema de ecuaciones lineares oportuno para determinar los valores teoricos correspondientes a las cantidades estimadas y comparar con los valores determinados por medio de la simulacion (cuidado: si una cantidad $k$ es $\\infty$ la simulacion claramente no puede dar su valor real...  discutir este caso).</b>\n",
    "\n",
    "Comenzamos con $q=0$, podemos ver que la clase formada por los nodos $3$, $4$ y $5$ es absorbente y por tanto podemos decir que $h_{3,4,5}^2 = 0$. Por ello el sistema lineal que debemos resolver está formado por (terminando en 2):\n",
    "\n",
    "$$\\left\\{\n",
    "\\begin{array}\\\\\n",
    "h_0 = 0.3h_1 + 0.7h_0 \\\\\n",
    "h_1 = 0.15h_2 + 0.7h_1 \\\\\n",
    "h_2 = 1\n",
    "\\end{array}\\right.\n",
    "$$\n",
    "\n",
    "Por tanto $h_1 = 1/2$ y $h_0 = 1/2$. Podemos ver que en el primer ejercicio habíamos obtenido $h_0^2 \\sim 1/2$\n",
    "\n",
    "Para calcular $h_0^5$ volvemos a un sistema similar, pero ya no podemos tener en cuenta la clase absorbente ya que el nodo pertenece a ella:\n",
    "\n",
    "$$\\left\\{\n",
    "\\begin{array}\\\\\n",
    "h_0 = 0.3h_1 + 0.7h_0 \\\\\n",
    "h_1 = 0.15h_2 + 0.15h_4 + 0.7h_1 \\\\\n",
    "h_2 = 0.25h_0 + 0.25h_3 + 0.25h_4 + 0.25h_2 \\\\\n",
    "h_3 = 0.1h_4 + 0.9h_3 \\\\\n",
    "h_4 = 0.5h_5 + 0.5h_4\\\\\n",
    "h_5 = 1\n",
    "\\end{array}\\right.\n",
    "$$\n",
    "\n",
    "\n",
    "Por tanto $h_5 = h_4 = h_3 = h_2 = h_1 = h_0 = 1$. En este caso nuestra simulación acierta el valor.\n",
    "\n",
    "Al añadir el enlace entre los nodos $3$ y $0$ con probabilidad $q=0.1$, nuestros sistemas cambian y pasan a ser de la siguiente forma (para $h_0^2$):\n",
    "\n",
    "$$\\left\\{\n",
    "\\begin{array}\\\\\n",
    "h_0 = 0.3h_1 + 0.7h_0 \\\\\n",
    "h_1 = 0.15h_2 + 0.15h_4 + 0.7h_1 \\\\\n",
    "h_2 = 1 \\\\\n",
    "h_3 = 0.1h_4 + 0.1h_0 + 0.8h_3 \\\\\n",
    "h_4 = 0.5h_5 + 0.5h_4 \\\\\n",
    "h_5 = 0.5h_4 + 0.25h_3 + 0.25h_5\n",
    "\\end{array}\\right.\n",
    "$$\n",
    "\n",
    "Resolviendo obtenemos que $h_5 = h_4 = h_3 = h_2 = h_1 = h_0 = 1$, al igual que mediante la simulación.\n",
    "\n",
    "De igual manera, resolviendo para $h_0^5$, podemos ver que obtenemos la misma relación ($h_5 = h_4 = h_3 = h_2 = h_1 = h_0 = 1$)"
   ]
  },
  {
   "cell_type": "markdown",
   "metadata": {},
   "source": [
    "En el caso de los $k$, debemos proceder de una manera algo diferente y comenzaremos haciéndolo para $q=0$. Como la clase $\\{3,4,5\\}$ es absorbente, su tiempo medio hasta el nodo $2$ es infinito:\n",
    "\n",
    "$$\\left\\{\n",
    "\\begin{array}\\\\\n",
    "k_0 = 1+ 0.3k_1 + 0.7k_0 \\\\\n",
    "k_1 = 1 + 0.15k_2 + 0.15k_4 + 0.7k_1 \\\\\n",
    "k_2 = 0 \\\\\n",
    "k_3 = \\infty \\\\\n",
    "k_4 = \\infty \\\\\n",
    "k_5 = \\infty\n",
    "\\end{array}\\right.\n",
    "$$\n",
    "\n",
    "Por tanto $k_0^2 = k_4^2= \\infty$, valores que conseguía la simulación. Para $q=0.1$, debemos establecer el sistema como:\n",
    "\n",
    "$$\\left\\{\n",
    "\\begin{array}\\\\\n",
    "k_0 = 1 + 0.3k_1 + 0.7k_0 \\\\\n",
    "k_1 = 1 + 0.15k_2 + 0.15k_4 + 0.7k_1 \\\\\n",
    "k_2 = 0 \\\\\n",
    "k_3 = 1 + 0.1k_4 + 0.1k_0 + 0.8k_3 \\\\\n",
    "k_4 = 1 + 0.5k_5 + 0.5k_4 \\\\\n",
    "k_5 = 1 + 0.5k_4 + 0.25k_3 + 0.25k_5\n",
    "\\end{array}\\right.\n",
    "$$\n",
    "\n",
    "y por tanto los valores obtenidos son: $k_0 = 43.33$ y $k_4 = 73.33$, valores similares a los obtenidos por simulación."
   ]
  },
  {
   "cell_type": "markdown",
   "metadata": {},
   "source": [
    "# Ejercicio 4\n",
    "\n",
    "<b> para el caso $q = 0.1$, dibujar el gráfico de $g(t) = P[H^{\\{4\\}}_0=t]$ </b>\n",
    "\n",
    "Para calcular este $H$ definimos una función que calcule los $H$ para cada estado y cada montecarlo. De esta manera podremos obtener los $H$ del estado 4 y ver su probabilidad."
   ]
  },
  {
   "cell_type": "code",
   "execution_count": 39,
   "metadata": {},
   "outputs": [],
   "source": [
    "# Runs a set of NC chains (with transition PT and initial state m_ini)\n",
    "# for a total of T steps and at the end returns the mean time to reach each state\n",
    "#\n",
    "def set_run_H(NC, PT, m_ini, T):\n",
    "    chains = [Markov(PT, m_ini) for _ in range(NC)]\n",
    "    state_no = len(PT[0])\n",
    "    state = np.ones((NC, state_no)) * np.inf\n",
    "    for k in range(NC):\n",
    "        state[k][m_ini] = 0\n",
    "    for t in range(1,T+1):\n",
    "        for k in range(NC):\n",
    "            c = chains[k].step()\n",
    "            state[k][c] = t if state[k][c] == np.inf else state[k][c]\n",
    "\n",
    "    return state"
   ]
  },
  {
   "cell_type": "code",
   "execution_count": 46,
   "metadata": {},
   "outputs": [
    {
     "name": "stdout",
     "output_type": "stream",
     "text": [
      "q = 0.1, comenzando en el estado 0:\n"
     ]
    }
   ],
   "source": [
    "q = 0.1\n",
    "starting_at = 0\n",
    "print(f\"q = {q}, comenzando en el estado {starting_at}:\")\n",
    "H = set_run_H(1000, get_PT(q=q), starting_at, 1000)"
   ]
  },
  {
   "cell_type": "code",
   "execution_count": 51,
   "metadata": {},
   "outputs": [
    {
     "data": {
      "text/plain": [
       "<matplotlib.axes._subplots.AxesSubplot at 0x7ff8f8379a00>"
      ]
     },
     "execution_count": 51,
     "metadata": {},
     "output_type": "execute_result"
    },
    {
     "data": {
      "image/png": "[encoded data removed]",
      "text/plain": [
       "<Figure size 432x288 with 1 Axes>"
      ]
     },
     "metadata": {
      "needs_background": "light"
     },
     "output_type": "display_data"
    }
   ],
   "source": [
    "sns.distplot(H[:,4], hist = False, kde = True,\n",
    "                 kde_kws = {'linewidth': 3})"
   ]
  },
  {
   "cell_type": "markdown",
   "metadata": {},
   "source": [
    "Esta gráfica parece seguir una distribución exponencial con media 11."
   ]
  },
  {
   "cell_type": "markdown",
   "metadata": {},
   "source": [
    "# Ejercicio 5\n",
    "<b> Afirmo que $H^{\\{4\\}}_0< H^{\\{5\\}}_0$ siempre. ¿Es cierto? ¿Por qué? </b>\n",
    " \n",
    "Podemos comprobarlo mediante simulación gracias a la función definida en el ejercicio anterior."
   ]
  },
  {
   "cell_type": "code",
   "execution_count": 58,
   "metadata": {},
   "outputs": [
    {
     "name": "stdout",
     "output_type": "stream",
     "text": [
      "En media: H4 = 10.956, H5 = 12.963\n",
      "¿Todos los valores son mayores?: True\n"
     ]
    }
   ],
   "source": [
    "print(f\"En media: H4 = {H[:,4].mean()}, H5 = {H[:,5].mean()}\")\n",
    "print(f\"¿Todos los valores son mayores?: {(H[:,4] < H[:,5]).all()}\")"
   ]
  },
  {
   "cell_type": "markdown",
   "metadata": {},
   "source": [
    "Podemos comprobar que mediante simulación está afirmación se puede considerar cierta. Ahora bien, si lo intentamos ver fuera del ámbito de la simulación, nos fijamos que todo camino que sale desde el nodo $0$ hasta el nodo $5$ pasa por el nodo $4$. Esto implica que el tiempo de pasar por primera vez por el nodo $5$ será siempre posterior al tiempo de pasar por primera vez por el nodo $4$, y, en el mejor de los casos, dado que se encuentra a una distancia de 1, tomará el valor $H_0^5 = H_0^4 + 1 \\Rightarrow H_0^5 \\geq H^4_0 + 1 \\Rightarrow H_0^5 > H^4_0$"
   ]
  }
 ],
 "metadata": {
  "kernelspec": {
   "display_name": "Python 3",
   "language": "python",
   "name": "python3"
  },
  "language_info": {
   "codemirror_mode": {
    "name": "ipython",
    "version": 3
   },
   "file_extension": ".py",
   "mimetype": "text/x-python",
   "name": "python",
   "nbconvert_exporter": "python",
   "pygments_lexer": "ipython3",
   "version": "3.8.3"
  }
 },
 "nbformat": 4,
 "nbformat_minor": 4
}
