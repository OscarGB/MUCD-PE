{
 "cells": [
  {
   "cell_type": "markdown",
   "metadata": {},
   "source": [
    "# Óscar Gómez Borzdynski\n",
    "## Práctica 2\n",
    "### Procesos Estocásticos"
   ]
  },
  {
   "cell_type": "code",
   "execution_count": 7,
   "metadata": {},
   "outputs": [],
   "source": [
    "import intrf\n",
    "import markov\n",
    "import numpy as np\n",
    "import sys\n",
    "import math\n",
    "from random import uniform"
   ]
  },
  {
   "cell_type": "code",
   "execution_count": 8,
   "metadata": {},
   "outputs": [
    {
     "data": {
      "text/html": [
       "<style>\n",
       "    h1, h2, h3 {color: #3d6f91;}\n",
       "    b, li, ul {color: #5D8AA8;}\n",
       "</style>\n"
      ],
      "text/plain": [
       "<IPython.core.display.HTML object>"
      ]
     },
     "metadata": {},
     "output_type": "display_data"
    }
   ],
   "source": [
    "%%html\n",
    "<style>\n",
    "    h1, h2, h3 {color: #3d6f91;}\n",
    "    b, li, ul {color: #5D8AA8;}\n",
    "</style>"
   ]
  },
  {
   "cell_type": "markdown",
   "metadata": {},
   "source": [
    "## Métodos y clases previos\n",
    "\n",
    "Utilizamos la clase Markov proporcionada por el profesor y definimos un método auxiliar que devuelve la matriz de transición en función de los valores de p y q."
   ]
  },
  {
   "cell_type": "code",
   "execution_count": 20,
   "metadata": {},
   "outputs": [],
   "source": [
    "# Returns the Probability matrix for our graphs\n",
    "def get_PT(p=0.3, q=0.0):\n",
    "    return [[  1-p,    p,    0.0,    0.0,    0.0,    0.0], \n",
    "      [  0.0,  1-p,  p/2.0,    0.0,   p/2.0,   0.0],\n",
    "      [1/4.0,  0.0,  1/4.0,   1/4.0,  1/4.0,   0.0],\n",
    "      [    q,  0.0,    0.0,   0.9-q,    0.1,   0.0],\n",
    "      [  0.0,  0.0,    0.0,     0.0,  1/2.0, 1/2.0],\n",
    "      [  0.0,  0.0,    0.0,    1/4.0, 1/2.0, 1/4.0] \n",
    "            \n",
    "      ]\n",
    "#\n",
    "# This class implements a Markov chain. Upon creation, a transition\n",
    "# matrix and an initial state are given. The chain may be executed and\n",
    "# it keeps track of the probability that at time t it is in state m.\n",
    "#\n",
    "class Markov:\n",
    "\n",
    "    #\n",
    "    # Initialization function\n",
    "    #\n",
    "    def __init__(self, PT, m_ini):\n",
    "        self.PT = PT\n",
    "        self.nstate = len(PT[0])\n",
    "        self.state = m_ini\n",
    "        self.steps = 1      # Number of steps executed so far (for the \n",
    "                            # computation of averages)\n",
    "        self.count = self.nstate*[0]  # count of the times a state was visited\n",
    "        self.count[self.state] = 1\n",
    "\n",
    "    #\n",
    "    # Given a state and the transition probability matrix PT, determine a\n",
    "    # new state with the probabilities prescribed by the matrix. Returns\n",
    "    # the value of the new state.\n",
    "    #\n",
    "    def _transition(self, m):\n",
    "        p = self.PT[m]\n",
    "        u = uniform(0.0, 1.0)\n",
    "        a = 0\n",
    "        for k in range(len(p)):\n",
    "            a = a + p[k]\n",
    "            if u < a:\n",
    "                return k\n",
    "        return len(p)-1\n",
    "\n",
    "    #\n",
    "    # Makes a step of the Markov chain: generates a new state, updates\n",
    "    # the current state, the step counter and the state counter. \n",
    "    #\n",
    "    # Returns the new state of the chain\n",
    "    #\n",
    "    def step(self):\n",
    "        mnew = self._transition(self.state)\n",
    "        self.state = mnew\n",
    "        self.steps = self.steps+1\n",
    "        self.count[self.state] = self.count[self.state] + 1\n",
    "        return mnew"
   ]
  },
  {
   "cell_type": "markdown",
   "metadata": {},
   "source": [
    "# Ejercicio 1\n",
    "\n",
    "<b>Simular el funcionamiento de la cadena y hacer una estimacion de conjunto de $h^2_0$ y $h^5_0$ para $q = 0.1$ y $q= 0$.</b>\n",
    "\n",
    "Primero debemos definir una función que nos devuelva todos los $h$ en función del estado de entrada."
   ]
  },
  {
   "cell_type": "code",
   "execution_count": 21,
   "metadata": {},
   "outputs": [],
   "source": [
    "#\n",
    "# Runs a set of NC chains (with transition PT and initial state m_ini)\n",
    "# for a total of T steps and at the end returns probability of ever reaching each state\n",
    "#\n",
    "def set_run_h(NC, PT, m_ini, T):\n",
    "    chains = [Markov(PT, m_ini) for _ in range(NC)]\n",
    "    state_no = len(PT[0])\n",
    "    state = np.zeros((NC, state_no))\n",
    "    for k in range(NC):\n",
    "        state[k][m_ini] = 1\n",
    "    for t in range(T):\n",
    "        for k in range(NC):\n",
    "            state[k][chains[k].step()] = 1\n",
    "\n",
    "    return state.mean(axis=0)"
   ]
  },
  {
   "cell_type": "code",
   "execution_count": 22,
   "metadata": {},
   "outputs": [
    {
     "name": "stdout",
     "output_type": "stream",
     "text": [
      "q = 0.0, comenzando en el estado 0:\n",
      "h2 = 0.54, h5 = 1.0\n",
      "q = 0.1, comenzando en el estado 0:\n",
      "h2 = 1.0, h5 = 1.0\n"
     ]
    }
   ],
   "source": [
    "starting_at = 0\n",
    "q = 0.0\n",
    "print(f\"q = {q}, comenzando en el estado {starting_at}:\")\n",
    "h = set_run_h(500, get_PT(q=q), starting_at, 1000)\n",
    "print(f\"h2 = {h[2]}, h5 = {h[5]}\")\n",
    "q = 0.1\n",
    "print(f\"q = {q}, comenzando en el estado {starting_at}:\")\n",
    "h = set_run_h(500, get_PT(q=q), starting_at, 1000)\n",
    "print(f\"h2 = {h[2]}, h5 = {h[5]}\")"
   ]
  },
  {
   "cell_type": "markdown",
   "metadata": {},
   "source": [
    "Estos valores nos indican que con $q=0$, tenemos una clase absorbente que impide que la cadena pase por el estado $2$ en algunas de las cadenas de la simulación. Además podemos ver que el estado $5$ si pertenece a esa clase absorbente dado que la probabilidad de pasar por él es $1$.\n",
    "\n",
    "Con $q=1$ la clase anterior desaparece y por ello la cadena es capaz de volver al estado $2$, haciendo que su $h$ sea $1$."
   ]
  },
  {
   "cell_type": "markdown",
   "metadata": {},
   "source": [
    "# Ejercicio 2\n",
    "\n",
    "<b>Simular el funcionamiento de la cadena y hacer una estimacion de conjunto de $k^2_0$ y $k^2_4$ para $q = 0.1$ y $q= 0$.</b>\n",
    "\n",
    "Primero debemos definir una función que nos devuelva todos los $k$ en función del estado de entrada."
   ]
  },
  {
   "cell_type": "code",
   "execution_count": 23,
   "metadata": {},
   "outputs": [],
   "source": [
    "# Runs a set of NC chains (with transition PT and initial state m_ini)\n",
    "# for a total of T steps and at the end returns the mean time to reach each state\n",
    "#\n",
    "def set_run_k(NC, PT, m_ini, T):\n",
    "    chains = [Markov(PT, m_ini) for _ in range(NC)]\n",
    "    state_no = len(PT[0])\n",
    "    state = np.ones((NC, state_no)) * np.inf\n",
    "    for k in range(NC):\n",
    "        state[k][m_ini] = 0\n",
    "    for t in range(T):\n",
    "        for k in range(NC):\n",
    "            c = chains[k].step()\n",
    "            state[k][c] = t if state[k][c] == np.inf else state[k][c]\n",
    "\n",
    "    return state.mean(axis=0)"
   ]
  },
  {
   "cell_type": "code",
   "execution_count": 24,
   "metadata": {},
   "outputs": [
    {
     "name": "stdout",
     "output_type": "stream",
     "text": [
      "q = 0.0, comenzando en el estado 0:\n",
      "k2 = inf\n",
      "q = 0.1, comenzando en el estado 0:\n",
      "k2 = 42.726\n",
      "q = 0.0, comenzando en el estado 4:\n",
      "k2 = inf\n",
      "q = 0.1, comenzando en el estado 4:\n",
      "k2 = 73.068\n"
     ]
    }
   ],
   "source": [
    "starting_at = 0\n",
    "q = 0.0\n",
    "print(f\"q = {q}, comenzando en el estado {starting_at}:\")\n",
    "k = set_run_k(500, get_PT(q=q), starting_at, 1000)\n",
    "print(f\"k2 = {k[2]}\")\n",
    "q = 0.1\n",
    "print(f\"q = {q}, comenzando en el estado {starting_at}:\")\n",
    "k = set_run_k(500, get_PT(q=q), starting_at, 1000)\n",
    "print(f\"k2 = {k[2]}\")\n",
    "\n",
    "starting_at = 4\n",
    "q = 0.0\n",
    "print(f\"q = {q}, comenzando en el estado {starting_at}:\")\n",
    "k = set_run_k(500, get_PT(q=q), starting_at, 1000)\n",
    "print(f\"k2 = {k[2]}\")\n",
    "q = 0.1\n",
    "print(f\"q = {q}, comenzando en el estado {starting_at}:\")\n",
    "k = set_run_k(500, get_PT(q=q), starting_at, 1000)\n",
    "print(f\"k2 = {k[2]}\")"
   ]
  },
  {
   "cell_type": "markdown",
   "metadata": {},
   "source": [
    "Podemos ver que obtenemos valores $k$ infinitos, esto se debe a que la media de un conjunto cuando uno de los valores es infinito es infinito. Cuando una cadena no pasa por el estado $n$, el tiempo necesario para llegar a ese estado es inifinito. Dado que, como hemos visto en el ejercicio anterior, la probabilidad de llegar al estado $2$ no es $1$ para $q=0$, es posible que una cadena del conjunto no llegue a pasar por él y por tanto se le asigne un tiempo inifinito."
   ]
  },
  {
   "cell_type": "markdown",
   "metadata": {},
   "source": [
    "# Ejercicio 3\n",
    "\n",
    "<b>Usar el sistema de ecuaciones lineares oportuno para determinar los valores teoricos correspondientes a las cantidades estimadas y comparar con los valores determinados por medio de la simulacion (cuidado: si una cantidad $k$ es $\\infty$ la simulacion claramente no puede dar su valor real...  discutir este caso).</b>"
   ]
  },
  {
   "cell_type": "code",
   "execution_count": null,
   "metadata": {},
   "outputs": [],
   "source": []
  }
 ],
 "metadata": {
  "kernelspec": {
   "display_name": "Python 3",
   "language": "python",
   "name": "python3"
  },
  "language_info": {
   "codemirror_mode": {
    "name": "ipython",
    "version": 3
   },
   "file_extension": ".py",
   "mimetype": "text/x-python",
   "name": "python",
   "nbconvert_exporter": "python",
   "pygments_lexer": "ipython3",
   "version": "3.8.3"
  }
 },
 "nbformat": 4,
 "nbformat_minor": 4
}
