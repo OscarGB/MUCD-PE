{
 "cells": [
  {
   "cell_type": "code",
   "execution_count": 15,
   "metadata": {},
   "outputs": [],
   "source": [
    "import intrf\n",
    "import markov\n",
    "import numpy as np\n",
    "import sys\n",
    "import math\n",
    "from random import uniform"
   ]
  },
  {
   "cell_type": "code",
   "execution_count": 38,
   "metadata": {},
   "outputs": [],
   "source": [
    "# Returns the Probability matrix for our graphs\n",
    "def get_PT(p=0.3, q=0.0):\n",
    "    return [[  1-p,    p,    0.0,    0.0,    0.0,    0.0], # 0 \n",
    "      [  0.0,  1-p,  p/2.0,    0.0,   p/2.0,   0.0], # 1\n",
    "      [1/4.0,  0.0,  1/4.0,   1/4.0,  1/4.0,   0.0], # 2\n",
    "      [    q,  0.0,    0.0,   0.9-q,    0.1,   0.0], # 3\n",
    "      [  0.0,  0.0,    0.0,     0.0,  1/2.0, 1/2.0], # 4\n",
    "      [  0.0,  0.0,    0.0,    1/4.0, 1/2.0, 1/4.0]  #5\n",
    "      ]\n",
    "#\n",
    "# This class implements a Markov chain. Upon creation, a transition\n",
    "# matrix and an initial state are given. The chain may be executed and\n",
    "# it keeps track of the probability that at time t it is in state m.\n",
    "#\n",
    "class Markov:\n",
    "\n",
    "    #\n",
    "    # Initialization function\n",
    "    #\n",
    "    def __init__(self, PT, m_ini):\n",
    "        self.PT = PT\n",
    "        self.nstate = len(PT[0])\n",
    "        self.state = m_ini\n",
    "        self.steps = 1      # Number of steps executed so far (for the \n",
    "                            # computation of averages)\n",
    "        self.count = self.nstate*[0]  # count of the times a state was visited\n",
    "        self.count[self.state] = 1\n",
    "\n",
    "    #\n",
    "    # Given a state and the transition probability matrix PT, determine a\n",
    "    # new state with the probabilities prescribed by the matrix. Returns\n",
    "    # the value of the new state.\n",
    "    #\n",
    "    def _transition(self, m):\n",
    "        p = self.PT[m]\n",
    "        u = uniform(0.0, 1.0)\n",
    "        a = 0\n",
    "        for k in range(len(p)):\n",
    "            a = a + p[k]\n",
    "            if u < a:\n",
    "                return k\n",
    "        return len(p)-1\n",
    "\n",
    "    #\n",
    "    # Makes a step of the Markov chain: generates a new state, updates\n",
    "    # the current state, the step counter and the state counter. \n",
    "    #\n",
    "    # Returns the new state of the chain\n",
    "    #\n",
    "    def step(self):\n",
    "        mnew = self._transition(self.state)\n",
    "        self.state = mnew\n",
    "        self.steps = self.steps+1\n",
    "        self.count[self.state] = self.count[self.state] + 1\n",
    "        return mnew\n",
    "\n",
    "    #\n",
    "    # Returns the probability of occupations of each one of the states\n",
    "    # of the chain\n",
    "    #\n",
    "    def stats(self):\n",
    "        s = sum(self.count)\n",
    "        return [float(x)/float(s) for x in self.count]\n",
    "\n",
    "\n",
    "#\n",
    "# Runs a set of NC chains (with transition PT and initial state m_ini)\n",
    "# for a total of T steps and at the end collects a collection\n",
    "# statistics of the states in which the chains are.\n",
    "#\n",
    "def set_run(NC, PT, m_ini, T):\n",
    "    chains = [Markov(PT, m_ini) for _ in range(NC)]\n",
    "    state_no = len(PT[0])\n",
    "    state = NC*[0]\n",
    "    for t in range(T):\n",
    "        for k in range(NC):\n",
    "            state[k] = chains[k].step()\n",
    "\n",
    "    count = state_no*[0.0]\n",
    "    for k in range(NC):\n",
    "        count[state[k]] = count[state[k]] + 1\n",
    "    return [float(c)/float(NC) for c in count]\n",
    "\n",
    "\n",
    "#\n",
    "# Runs a set of NC chains (with transition PT and initial state m_ini)\n",
    "# for a total of T steps and at the end returns probability of ever reaching each state\n",
    "#\n",
    "def set_run_h(NC, PT, m_ini, T):\n",
    "    chains = [Markov(PT, m_ini) for _ in range(NC)]\n",
    "    state_no = len(PT[0])\n",
    "    state = np.zeros((NC, state_no))\n",
    "    for t in range(T):\n",
    "        for k in range(NC):\n",
    "            state[k][chains[k].step()] = 1\n",
    "\n",
    "    return state.mean(axis=0)\n",
    "\n",
    "# Runs a set of NC chains (with transition PT and initial state m_ini)\n",
    "# for a total of T steps and at the end returns the mean time to reach each state\n",
    "#\n",
    "def set_run_k(NC, PT, m_ini, T):\n",
    "    chains = [Markov(PT, m_ini) for _ in range(NC)]\n",
    "    state_no = len(PT[0])\n",
    "    state = np.ones((NC, state_no)) * np.inf\n",
    "    for t in range(T):\n",
    "        for k in range(NC):\n",
    "            c = chains[k].step()\n",
    "            state[k][c] = t if state[k][c] == np.inf else state[k][c]\n",
    "\n",
    "    return state.mean(axis=0)"
   ]
  },
  {
   "cell_type": "code",
   "execution_count": 39,
   "metadata": {},
   "outputs": [
    {
     "name": "stdout",
     "output_type": "stream",
     "text": [
      "q = 0.0\n",
      "[0.754 1.    0.476 1.    1.    1.   ]\n",
      "q = 0.1\n",
      "[1. 1. 1. 1. 1. 1.]\n"
     ]
    }
   ],
   "source": [
    "starting_at = 0\n",
    "q = 0.0\n",
    "print(f\"q = {q}\")\n",
    "print(set_run_h(500, get_PT(q=q), starting_at, 1000))\n",
    "q = 0.1\n",
    "print(f\"q = {q}\")\n",
    "print(set_run_h(500, get_PT(q=q), starting_at, 1000))"
   ]
  },
  {
   "cell_type": "code",
   "execution_count": 40,
   "metadata": {},
   "outputs": [
    {
     "name": "stdout",
     "output_type": "stream",
     "text": [
      "q = 0.0\n",
      "[   inf  2.02     inf 14.692  9.73  11.738]\n",
      "q = 0.1\n",
      "[ 7.888  2.336 43.79  15.464  9.686 11.686]\n"
     ]
    }
   ],
   "source": [
    "starting_at = 0\n",
    "q = 0.0\n",
    "print(f\"q = {q}\")\n",
    "print(set_run_k(500, get_PT(q=q), starting_at, 1000))\n",
    "q = 0.1\n",
    "print(f\"q = {q}\")\n",
    "print(set_run_k(500, get_PT(q=q), starting_at, 1000))"
   ]
  },
  {
   "cell_type": "code",
   "execution_count": null,
   "metadata": {},
   "outputs": [],
   "source": []
  }
 ],
 "metadata": {
  "kernelspec": {
   "display_name": "Python 3",
   "language": "python",
   "name": "python3"
  },
  "language_info": {
   "codemirror_mode": {
    "name": "ipython",
    "version": 3
   },
   "file_extension": ".py",
   "mimetype": "text/x-python",
   "name": "python",
   "nbconvert_exporter": "python",
   "pygments_lexer": "ipython3",
   "version": "3.8.3"
  }
 },
 "nbformat": 4,
 "nbformat_minor": 4
}
