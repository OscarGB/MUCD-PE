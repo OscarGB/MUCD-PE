{
 "cells": [
  {
   "cell_type": "markdown",
   "metadata": {},
   "source": [
    "# Óscar Gómez Borzdynski\n",
    "## Práctica 2\n",
    "### Procesos Estocásticos"
   ]
  },
  {
   "cell_type": "code",
   "execution_count": 1,
   "metadata": {},
   "outputs": [],
   "source": [
    "from random import uniform\n",
    "import numpy as np\n",
    "import matplotlib.pyplot as plt"
   ]
  },
  {
   "cell_type": "code",
   "execution_count": 2,
   "metadata": {},
   "outputs": [
    {
     "data": {
      "text/html": [
       "<style>\n",
       "    h1, h2, h3 {color: #3d6f91;}\n",
       "    b, li, ul {color: #5D8AA8;}\n",
       "</style>\n"
      ],
      "text/plain": [
       "<IPython.core.display.HTML object>"
      ]
     },
     "metadata": {},
     "output_type": "display_data"
    }
   ],
   "source": [
    "%%html\n",
    "<style>\n",
    "    h1, h2, h3 {color: #3d6f91;}\n",
    "    b, li, ul {color: #5D8AA8;}\n",
    "</style>"
   ]
  },
  {
   "cell_type": "markdown",
   "metadata": {},
   "source": [
    "### Ejercicio 1\n",
    "\n",
    "<div style=\"color: #5D8AA8;\">\n",
    "En los apuntes hay el ejemplo del gambler’s ruin como cadena de Markov.  Hacer un gráfico del numero medio de jugadas que el jugador puede hacer antes de arruinarse en funcion del dinero inicial. En cada jugada se juega 1 Euro, y el juego es ecuo (el jugador tiene una probabilidad $\\frac{1}{2}$ de ganar). Estimar media y varianza con 20 ejecuciones considerando un dinero inicial de $1, 2,\\dots, 50$ Euros. Indicar media y varianza. ¿Como varian la media y la varianza cuando aumenta el dinero inicial?\n",
    "</div>"
   ]
  },
  {
   "cell_type": "markdown",
   "metadata": {},
   "source": [
    "Primero vamos a definir la cadena de markov para este problema concreto simplificando la codificación para que ejecute hasta que el jugador se arruine."
   ]
  },
  {
   "cell_type": "code",
   "execution_count": 3,
   "metadata": {},
   "outputs": [],
   "source": [
    "def run_gambler(initial_money, win_probability=0.5):\n",
    "    money = initial_money\n",
    "    games = 0\n",
    "    while money > 0:\n",
    "        if uniform(0,1) > win_probability:\n",
    "            money += 1\n",
    "        else: \n",
    "            money -= 1\n",
    "        games += 1\n",
    "    return games"
   ]
  },
  {
   "cell_type": "code",
   "execution_count": 4,
   "metadata": {},
   "outputs": [],
   "source": [
    "max_money = 50\n",
    "runs = 100\n",
    "\n",
    "means = np.zeros(max_money)\n",
    "variances = np.zeros(max_money)\n",
    "\n",
    "for money in range(1, max_money + 1):\n",
    "    actual_run = np.zeros(runs)\n",
    "    for i in range(runs):\n",
    "        actual_run[i] = run_gambler(money)\n",
    "    means[money-1] = actual_run.mean()\n",
    "    variances[money-1] = actual_run.var()"
   ]
  },
  {
   "cell_type": "code",
   "execution_count": 16,
   "metadata": {},
   "outputs": [
    {
     "data": {
      "image/png": "[encoded data removed]",
      "text/plain": [
       "<Figure size 432x288 with 1 Axes>"
      ]
     },
     "metadata": {
      "needs_background": "light"
     },
     "output_type": "display_data"
    }
   ],
   "source": [
    "x = list(range(1,51))\n",
    "plt.errorbar(x, means, variances)\n",
    "plt.yscale('log')\n",
    "#plt.plot(means)\n",
    "#plt.yscale('log')"
   ]
  },
  {
   "cell_type": "markdown",
   "metadata": {},
   "source": [
    "Podemos ver un comportamiento bastante errático aunque se ha modificado el número de muestras correspondientes a cada dinero inicial a 100. De todas formas, parece que, generalmente, tenemos un crecimiento exponencial del número de partidas jugadas antes de arruinarse."
   ]
  },
  {
   "cell_type": "markdown",
   "metadata": {},
   "source": [
    "### Ejercicio 2\n",
    "\n",
    "<div style=\"color: #5D8AA8;\">\n",
    "Indicar cuales de las siguientes matrices, si usadas como dinamica de un sistema a tiempodiscreto son:\n",
    "\n",
    "* Estable (todos los autovalores $\\lambda$ tienen $|\\lambda|<1$)\n",
    "* Inestable (hay por lo menos un autovalor $\\lambda$ con $|\\lambda|>1$)\n",
    "* Marginal (hay por lo menos un autovalor $\\lambda$ con $|\\lambda|=1$ y los demas tienen $|\\lambda|<1$)\n",
    "* Oscilantes (hay por lo menos un autovalor $\\lambda$ con $|\\lambda|=-1$ y los demas tienen $|\\lambda|<1$)\n",
    "\n",
    "Indicar los autovalores y los autovectores correspondientes a las componentes estables, inestables, marginales y oscilantes\n",
    "</div>"
   ]
  },
  {
   "cell_type": "code",
   "execution_count": 76,
   "metadata": {},
   "outputs": [
    {
     "data": {
      "text/plain": [
       "(array([-0.9, -0.2,  1. ,  0.8]),\n",
       " array([[-0.5,  0.5,  0.5,  0.5],\n",
       "        [ 0.5,  0.5, -0.5,  0.5],\n",
       "        [ 0.5, -0.5,  0.5,  0.5],\n",
       "        [-0.5, -0.5, -0.5,  0.5]]))"
      ]
     },
     "execution_count": 76,
     "metadata": {},
     "output_type": "execute_result"
    }
   ],
   "source": [
    "A = np.array([[0.175, 0.125, 0.725, -0.225],\n",
    "              [0.125, 0.175, -0.225, 0.725],\n",
    "              [0.725, -0.225, 0.175, 0.125],\n",
    "              [-0.225, 0.725, 0.125, 0.175]])\n",
    "np.linalg.eig(A)"
   ]
  },
  {
   "cell_type": "markdown",
   "metadata": {},
   "source": [
    "Podemos ver que la matriz A es marginal, es decir, tiene un autovalor $\\lambda = 1$ con autovector asociado $(0.5, -0.5, 0.5, -0.5)$. Los demás autovalores tienen módulo menor que 1 y por tanto son parte de una componente estable."
   ]
  },
  {
   "cell_type": "code",
   "execution_count": 77,
   "metadata": {},
   "outputs": [
    {
     "data": {
      "text/plain": [
       "(array([ 2. ,  0.5, -0.8, -0.5]),\n",
       " array([[ 0.5, -0.5, -0.5, -0.5],\n",
       "        [-0.5, -0.5,  0.5, -0.5],\n",
       "        [ 0.5, -0.5,  0.5,  0.5],\n",
       "        [-0.5, -0.5, -0.5,  0.5]]))"
      ]
     },
     "execution_count": 77,
     "metadata": {},
     "output_type": "execute_result"
    }
   ],
   "source": [
    "B = np.array([[0.30, -0.30, 0.95, -0.45],\n",
    "              [-0.30, 0.30, -0.45, 0.95],\n",
    "              [0.95, -0.45, 0.30, -0.30],\n",
    "              [-0.45, 0.95, -0.30, 0.30]])\n",
    "np.linalg.eig(B)"
   ]
  },
  {
   "cell_type": "markdown",
   "metadata": {},
   "source": [
    "La matriz B es inestable ya que presenta un autovalor $\\lambda = 2$ con autovector asociado $(0.5, -0.5, 0.5 ,-0.5)$. El resto de autovalores tienen módulo menor que 1 y por tanto forman una componente estable."
   ]
  },
  {
   "cell_type": "code",
   "execution_count": 78,
   "metadata": {},
   "outputs": [
    {
     "data": {
      "text/plain": [
       "(array([ 1. ,  0.5, -0.8, -0.5]),\n",
       " array([[ 0.5, -0.5, -0.5, -0.5],\n",
       "        [-0.5, -0.5,  0.5, -0.5],\n",
       "        [ 0.5, -0.5,  0.5,  0.5],\n",
       "        [-0.5, -0.5, -0.5,  0.5]]))"
      ]
     },
     "execution_count": 78,
     "metadata": {},
     "output_type": "execute_result"
    }
   ],
   "source": [
    "C = np.array([[0.05, -0.05, 0.70, -0.20],\n",
    "              [-0.05, 0.05, -0.20, 0.70],\n",
    "              [0.70, -0.20, 0.05, -0.05],\n",
    "              [-0.20, 0.70, -0.05, 0.05]])\n",
    "np.linalg.eig(C)"
   ]
  },
  {
   "cell_type": "markdown",
   "metadata": {},
   "source": [
    "La matriz C es marginal, es decir, tiene un autovalor $\\lambda = 1$ con autovector asociado $(0.5, -0.5, 0.5, -0.5)$. Los demás autovalores tienen módulo menor que 1 y por tanto son parte de una componente estable."
   ]
  },
  {
   "cell_type": "code",
   "execution_count": 79,
   "metadata": {},
   "outputs": [
    {
     "data": {
      "text/plain": [
       "(array([ 0.8,  0.5, -1. , -0.8]),\n",
       " array([[ 0.5, -0.5, -0.5,  0.5],\n",
       "        [-0.5, -0.5, -0.5, -0.5],\n",
       "        [ 0.5, -0.5,  0.5, -0.5],\n",
       "        [-0.5, -0.5,  0.5,  0.5]]))"
      ]
     },
     "execution_count": 79,
     "metadata": {},
     "output_type": "execute_result"
    }
   ],
   "source": [
    "D = np.array([[-0.125, -0.125, 0.775, -0.025],\n",
    "              [-0.125, -0.125, -0.025, 0.775],\n",
    "              [0.775, -0.025, -0.125, -0.125],\n",
    "              [-0.025, 0.775, -0.125, -0.125]])\n",
    "np.linalg.eig(D)"
   ]
  },
  {
   "cell_type": "markdown",
   "metadata": {},
   "source": [
    "La matriz D es oscilante por presentar un autovalor $\\lambda = -1$ con autovector asociado $(-0.5, -0.5, 0.5, 0.5)$. El resto de autovalores tienen módulo menor que 1 y por tanto corresponden con una componente estable. "
   ]
  },
  {
   "cell_type": "markdown",
   "metadata": {},
   "source": [
    "### Ejercicio 3\n",
    "\n",
    "<div style=\"color: #5D8AA8;\">\n",
    "    Considerando el sistema dinamico    \n",
    "    \\[x_{t+1} = Ax_t + Bu_t + w_t\\\\\n",
    "    z_t = Cx_t + v_t\\]\n",
    "    $w$ es un ruido gaussiano con media cero y desviación estándar igual a $10$, $v$ es un ruido gaussiano con media cero y desviación estándar definida a continuación. <br>\n",
    "    Crear un filtro de Kalman para estimar el estado de este sistema y hacer un gráfico del error\n",
    "    \\[\\sum^t_{k=1}\\left(\\hat{x}_{t,k} - x_{t,k}\\right)^2\\]\n",
    "    por $t=1,\\dots,100$ en los dos casos en que la desviación estándar de $v_t$ sea $1.0$ 0 $10.0$.\n",
    "</div>"
   ]
  },
  {
   "cell_type": "code",
   "execution_count": 9,
   "metadata": {},
   "outputs": [],
   "source": [
    "def CWSE(X1, X2):\n",
    "    return np.array([(x1-x2)**2 for x1,x2 in zip(X1,X2)]).sum()"
   ]
  },
  {
   "cell_type": "code",
   "execution_count": 12,
   "metadata": {},
   "outputs": [],
   "source": [
    "variance_w = 10.0\n",
    "variance_v = 1.0\n",
    "\n",
    "A = np.array([[0.150, 0.150, 0.700, -0.200],\n",
    "              [0.150, 0.150, -0.200, 0.700],\n",
    "              [0.700, -0.200, 0.150, 0.150],\n",
    "              [-0.200, 0.700, 0.150, 0.150]])\n",
    "\n",
    "B = np.array([[1.0],\n",
    "              [1.0],\n",
    "              [1.0],\n",
    "              [1.0]])\n",
    "\n",
    "C = np.array([[1.0,0.0,0.0,0.0],\n",
    "              [0.0,1.0,0.0,0.0]])\n",
    "\n",
    "Q = np.eye(4)*variance_w\n",
    "R = np.eye(2)*variance_v\n",
    "\n",
    "P = np.eye(4)*1000"
   ]
  },
  {
   "cell_type": "code",
   "execution_count": null,
   "metadata": {},
   "outputs": [],
   "source": []
  }
 ],
 "metadata": {
  "kernelspec": {
   "display_name": "Python 3",
   "language": "python",
   "name": "python3"
  },
  "language_info": {
   "codemirror_mode": {
    "name": "ipython",
    "version": 3
   },
   "file_extension": ".py",
   "mimetype": "text/x-python",
   "name": "python",
   "nbconvert_exporter": "python",
   "pygments_lexer": "ipython3",
   "version": "3.8.3"
  }
 },
 "nbformat": 4,
 "nbformat_minor": 4
}
