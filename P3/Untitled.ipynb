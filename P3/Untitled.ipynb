{
 "cells": [
  {
   "cell_type": "markdown",
   "metadata": {},
   "source": [
    "# Óscar Gómez Borzdynski\n",
    "## Práctica 2\n",
    "### Procesos Estocásticos"
   ]
  },
  {
   "cell_type": "code",
   "execution_count": 48,
   "metadata": {},
   "outputs": [],
   "source": [
    "from random import uniform\n",
    "import numpy as np\n",
    "import matplotlib.pyplot as plt"
   ]
  },
  {
   "cell_type": "code",
   "execution_count": 2,
   "metadata": {},
   "outputs": [
    {
     "data": {
      "text/html": [
       "<style>\n",
       "    h1, h2, h3 {color: #3d6f91;}\n",
       "    b, li, ul {color: #5D8AA8;}\n",
       "</style>\n"
      ],
      "text/plain": [
       "<IPython.core.display.HTML object>"
      ]
     },
     "metadata": {},
     "output_type": "display_data"
    }
   ],
   "source": [
    "%%html\n",
    "<style>\n",
    "    h1, h2, h3 {color: #3d6f91;}\n",
    "    b, li, ul {color: #5D8AA8;}\n",
    "</style>"
   ]
  },
  {
   "cell_type": "markdown",
   "metadata": {},
   "source": [
    "### Ejercicio 1\n",
    "\n",
    "<b>En los apuntes hay el ejemplo del gambler’s ruin como cadena de Markov.  Hacer un gráfico del numero medio de jugadas que el jugador puede hacer antes de arruinarse en funcion del dinero inicial. En cada jugada se juega 1 Euro, y el juego es ecuo (el jugador tiene una probabilidad $\\frac{1}{2}$ de ganar). Estimar media y varianza con 20 ejecuciones considerando un dinero inicial de $1, 2,\\dots, 50$ Euros. Indicar media y varianza. ¿Como varian la media y la varianza cuando aumenta el dinero inicial?</b>"
   ]
  },
  {
   "cell_type": "markdown",
   "metadata": {},
   "source": [
    "Primero vamos a definir la cadena de markov para este problema concreto simplificando la codificación para que ejecute hasta que el jugador se arruine."
   ]
  },
  {
   "cell_type": "code",
   "execution_count": 56,
   "metadata": {},
   "outputs": [],
   "source": [
    "def run_gambler(initial_money, win_probability=0.5):\n",
    "    money = initial_money\n",
    "    games = 0\n",
    "    while money > 0:\n",
    "        if uniform(0,1) > win_probability:\n",
    "            money += 1\n",
    "        else: \n",
    "            money -= 1\n",
    "        games += 1\n",
    "    return games"
   ]
  },
  {
   "cell_type": "code",
   "execution_count": 80,
   "metadata": {},
   "outputs": [],
   "source": [
    "max_money = 50\n",
    "runs = 20\n",
    "\n",
    "means = np.zeros(max_money)\n",
    "variances = np.zeros(max_money)\n",
    "\n",
    "for money in range(1, max_money + 1):\n",
    "    actual_run = np.zeros(runs)\n",
    "    for i in range(runs):\n",
    "        actual_run[i] = run_gambler(money)\n",
    "    means[money-1] = actual_run.mean()\n",
    "    variances[money-1] = actual_run.var()"
   ]
  },
  {
   "cell_type": "code",
   "execution_count": 81,
   "metadata": {},
   "outputs": [
    {
     "data": {
      "image/png": "[encoded data removed]",
      "text/plain": [
       "<Figure size 432x288 with 1 Axes>"
      ]
     },
     "metadata": {
      "needs_background": "light"
     },
     "output_type": "display_data"
    }
   ],
   "source": [
    "plt.plot(means)\n",
    "plt.yscale('log')"
   ]
  },
  {
   "cell_type": "markdown",
   "metadata": {},
   "source": []
  },
  {
   "cell_type": "markdown",
   "metadata": {},
   "source": [
    "<b>Indicar cuales de las siguientes matrices, si usadas como dinamica de un sistema a tiempodiscreto son: </b>\n",
    "\n",
    "* Estable (todos los autovalores $\\lambda$ tienen $|\\lambda|<1$)\n",
    "* Inestable (hay por lo menos un autovalor $\\lambda$ con $|\\lambda|>1$)\n",
    "* Marginal (hay por lo menos un autovalor $\\lambda$ con $|\\lambda|=1$ y los demas tienen $|\\lambda|<1$)\n",
    "* Oscilantes (hay por lo menos un autovalor $\\lambda$ con $|\\lambda|=-1$ y los demas tienen $|\\lambda|<1$)\n",
    "\n",
    "<b>Indicar los autovalores y los autovectores correspondientes a las componentes estables, inestables, marginales y oscilantes</b>"
   ]
  },
  {
   "cell_type": "code",
   "execution_count": 76,
   "metadata": {},
   "outputs": [
    {
     "data": {
      "text/plain": [
       "(array([-0.9, -0.2,  1. ,  0.8]),\n",
       " array([[-0.5,  0.5,  0.5,  0.5],\n",
       "        [ 0.5,  0.5, -0.5,  0.5],\n",
       "        [ 0.5, -0.5,  0.5,  0.5],\n",
       "        [-0.5, -0.5, -0.5,  0.5]]))"
      ]
     },
     "execution_count": 76,
     "metadata": {},
     "output_type": "execute_result"
    }
   ],
   "source": [
    "A = np.array([[0.175, 0.125, 0.725, -0.225],\n",
    "              [0.125, 0.175, -0.225, 0.725],\n",
    "              [0.725, -0.225, 0.175, 0.125],\n",
    "              [-0.225, 0.725, 0.125, 0.175]])\n",
    "np.linalg.eig(A)"
   ]
  },
  {
   "cell_type": "markdown",
   "metadata": {},
   "source": [
    "Podemos ver que la matriz A es marginal, es decir, tiene un autovalor $\\lambda = 1$ con autovector asociado $(0.5, -0.5, 0.5, -0.5)$. Los demás autovalores tienen módulo menor que 1 y por tanto son parte de una componente estable."
   ]
  },
  {
   "cell_type": "code",
   "execution_count": 77,
   "metadata": {},
   "outputs": [
    {
     "data": {
      "text/plain": [
       "(array([ 2. ,  0.5, -0.8, -0.5]),\n",
       " array([[ 0.5, -0.5, -0.5, -0.5],\n",
       "        [-0.5, -0.5,  0.5, -0.5],\n",
       "        [ 0.5, -0.5,  0.5,  0.5],\n",
       "        [-0.5, -0.5, -0.5,  0.5]]))"
      ]
     },
     "execution_count": 77,
     "metadata": {},
     "output_type": "execute_result"
    }
   ],
   "source": [
    "B = np.array([[0.30, -0.30, 0.95, -0.45],\n",
    "              [-0.30, 0.30, -0.45, 0.95],\n",
    "              [0.95, -0.45, 0.30, -0.30],\n",
    "              [-0.45, 0.95, -0.30, 0.30]])\n",
    "np.linalg.eig(B)"
   ]
  },
  {
   "cell_type": "markdown",
   "metadata": {},
   "source": [
    "La matriz B es inestable ya que presenta un autovalor $\\lambda = 2$ con autovector asociado $(0.5, -0.5, 0.5 ,-0.5)$. El resto de autovalores tienen módulo menor que 1 y por tanto forman una componente estable."
   ]
  },
  {
   "cell_type": "code",
   "execution_count": 78,
   "metadata": {},
   "outputs": [
    {
     "data": {
      "text/plain": [
       "(array([ 1. ,  0.5, -0.8, -0.5]),\n",
       " array([[ 0.5, -0.5, -0.5, -0.5],\n",
       "        [-0.5, -0.5,  0.5, -0.5],\n",
       "        [ 0.5, -0.5,  0.5,  0.5],\n",
       "        [-0.5, -0.5, -0.5,  0.5]]))"
      ]
     },
     "execution_count": 78,
     "metadata": {},
     "output_type": "execute_result"
    }
   ],
   "source": [
    "C = np.array([[0.05, -0.05, 0.70, -0.20],\n",
    "              [-0.05, 0.05, -0.20, 0.70],\n",
    "              [0.70, -0.20, 0.05, -0.05],\n",
    "              [-0.20, 0.70, -0.05, 0.05]])\n",
    "np.linalg.eig(C)"
   ]
  },
  {
   "cell_type": "markdown",
   "metadata": {},
   "source": [
    "La matriz C es marginal, es decir, tiene un autovalor $\\lambda = 1$ con autovector asociado $(0.5, -0.5, 0.5, -0.5)$. Los demás autovalores tienen módulo menor que 1 y por tanto son parte de una componente estable."
   ]
  },
  {
   "cell_type": "code",
   "execution_count": 79,
   "metadata": {},
   "outputs": [
    {
     "data": {
      "text/plain": [
       "(array([ 0.8,  0.5, -1. , -0.8]),\n",
       " array([[ 0.5, -0.5, -0.5,  0.5],\n",
       "        [-0.5, -0.5, -0.5, -0.5],\n",
       "        [ 0.5, -0.5,  0.5, -0.5],\n",
       "        [-0.5, -0.5,  0.5,  0.5]]))"
      ]
     },
     "execution_count": 79,
     "metadata": {},
     "output_type": "execute_result"
    }
   ],
   "source": [
    "D = np.array([[-0.125, -0.125, 0.775, -0.025],\n",
    "              [-0.125, -0.125, -0.025, 0.775],\n",
    "              [0.775, -0.025, -0.125, -0.125],\n",
    "              [-0.025, 0.775, -0.125, -0.125]])\n",
    "np.linalg.eig(D)"
   ]
  },
  {
   "cell_type": "markdown",
   "metadata": {},
   "source": [
    "La matriz D es oscilante por presentar un autovalor $\\lambda = -1$ con autovector asociado $(-0.5, -0.5, 0.5, 0.5)$. El resto de autovalores tienen módulo menor que 1 y por tanto corresponden con una componente estable. "
   ]
  },
  {
   "cell_type": "code",
   "execution_count": null,
   "metadata": {},
   "outputs": [],
   "source": []
  }
 ],
 "metadata": {
  "kernelspec": {
   "display_name": "Python 3",
   "language": "python",
   "name": "python3"
  },
  "language_info": {
   "codemirror_mode": {
    "name": "ipython",
    "version": 3
   },
   "file_extension": ".py",
   "mimetype": "text/x-python",
   "name": "python",
   "nbconvert_exporter": "python",
   "pygments_lexer": "ipython3",
   "version": "3.8.3"
  }
 },
 "nbformat": 4,
 "nbformat_minor": 4
}
