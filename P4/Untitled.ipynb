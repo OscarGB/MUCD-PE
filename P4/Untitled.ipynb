{
 "cells": [
  {
   "cell_type": "code",
   "execution_count": 40,
   "metadata": {},
   "outputs": [
    {
     "name": "stdout",
     "output_type": "stream",
     "text": [
      "The autoreload extension is already loaded. To reload it, use:\n",
      "  %reload_ext autoreload\n"
     ]
    }
   ],
   "source": [
    "%load_ext autoreload\n",
    "%autoreload 2\n",
    "\n",
    "import arrival_process_simulation as arrival\n",
    "import numpy as np\n",
    "import matplotlib.pyplot as plt\n",
    "import stochastic_plots as stoch\n",
    "from scipy.stats import expon\n",
    "from scipy.special import factorial"
   ]
  },
  {
   "cell_type": "markdown",
   "metadata": {},
   "source": [
    "Por comodidad utilizaremos la notación $P_n = \\mathbb P [N(t) = n]; \\quad P_{\\Delta n} = \\mathbb P [\\Delta N(t) = n]$.\n",
    "$$\\begin{aligned}\n",
    "\\mathbb{P}[N(t+\\Delta t) = n] &= \\sum_{i=0}^n P_{n-i} P_{\\Delta i}\\\\\n",
    " &= P_n P_{\\Delta 0} + P_{n-1}P_{\\Delta 1} + \\sum_{i=2}^{n}P_{n-i} P_{\\Delta i} \\\\\n",
    " &= P_n - P_n\\lambda\\Delta t +P_{n-1}\\lambda\\Delta t +\\sum_{i=2}^{n}P_{n-i} P_{\\Delta i}+ o(\\Delta t)\n",
    "\\end{aligned}$$\n",
    "\n",
    "Observemos que para $i\\geq 2$ se cumple $0 \\leq P_{\\Delta i} \\leq o(\\Delta t)$ por (3).\n",
    "\n",
    "Por tanto, si $\\Delta t \\rightarrow 0^+$ cada sumando tenderá a $0$ por el teorema del Sandwich. Aplicando este límite, obtenemos la siguiente EDO.\n",
    "\n",
    "$$\n",
    "\\frac{d}{dt}P_n = -\\lambda P_n + \\lambda P_{n-1}\n",
    "$$\n",
    "\n",
    "Como sugiere el enunciado, podemos comprobar que $f_n(t) = \\frac{1}{n!} \\lambda^n t^n e^{-\\lambda t}$ es solución de la EDO. Para ello, debemos comprobar su derivada respecto a $t$ y la condición inicial.\n",
    "\n",
    "$$\\begin{aligned}\n",
    "\\frac{d}{dt} fn(t) &= \\frac{1}{(n-1)!} \\lambda^n t^{n-1} e^{-\\lambda t} - \\frac{1}{n!} \\lambda^{n+1} t^n e^{-\\lambda t} \\\\\n",
    "&= \\lambda \\left(\\frac{1}{(n-1)!} \\lambda^{n-1} t^{n-1} e^{-\\lambda t} - \\frac{1}{n!} \\lambda^n t^n e^{-\\lambda t}\\right) \\\\\n",
    "&= \\lambda\\left( P_{n-1} - P_n \\right) \\\\\n",
    "\\\\\n",
    "f_0(0) &= 1\n",
    "\\end{aligned}$$\n",
    "\n",
    "\n",
    "\n",
    "\n",
    "\n",
    "\n",
    "\n",
    "\n",
    "De no haber tenido un candidato para comprobar que cumple la EDO podríamos haberla solucionado de la siguiente manera.\n",
    "\n",
    "Utilizando el factor integrante $e^{\\lambda t}$ redefinimos el problema como:\n",
    "\n",
    "$$\\begin{aligned}\n",
    "e^{\\lambda t}\\frac{d}{dt}P_n  &= -\\lambda P_n e^{\\lambda t}+ \\lambda P_{n-1}e^{\\lambda t}\\\\\n",
    "\\frac{d}{dt}\\left[P_n e^{\\lambda t}\\right] &= \\lambda P_{n-1}e^{\\lambda t}\n",
    "\\end{aligned}$$\n",
    "\n",
    "Para $n=0$ tenemos:\n",
    "\n",
    "$$\\frac{d}{dt}\\left[P_0 e^{\\lambda t}\\right] = \\frac{d}{dt}\\left[e^{-\\lambda t} e^{\\lambda t}\\right] = 0$$\n",
    "\n",
    "Para $n=1$ tenemos:\n",
    "\n",
    "$$\\begin{aligned}\n",
    "\\frac{d}{dt}\\left[P_1 e^{\\lambda t}\\right] &= \\lambda P_0e^{\\lambda t} = \\lambda\\\\\n",
    "P_1 e^{\\lambda t} &= \\int_0^t\\lambda d\\tau = \\lambda t\n",
    "\\end{aligned}\n",
    "$$\n",
    "\n",
    "Para $n=2$ tenemos:\n",
    "\n",
    "$$P_2 e^{\\lambda t} = \\int_0^t \\lambda^2\\tau d\\tau = \\frac{1}{2}\\lambda^2t^2$$\n",
    "\n",
    "Por inducción sobre $n$ podemos llegar a la solución general:\n",
    "\n",
    "$$\\begin{aligned}\n",
    "P_n e^{\\lambda t} &= \\frac{1}{n!}\\lambda^nt^n \\\\\n",
    "P_n  &= \\frac{1}{n!}\\lambda^nt^n e^{-\\lambda t}\n",
    "\\end{aligned}\n",
    "$$"
   ]
  },
  {
   "cell_type": "code",
   "execution_count": 83,
   "metadata": {},
   "outputs": [
    {
     "data": {
      "image/png": "[encoded data removed]",
      "text/plain": [
       "<Figure size 432x288 with 1 Axes>"
      ]
     },
     "metadata": {
      "needs_background": "light"
     },
     "output_type": "display_data"
    }
   ],
   "source": [
    "# Parameters of the Poisson process\n",
    "lambda_rate = 10\n",
    "t0 = 0.0\n",
    "t1 = 2.0\n",
    "M = 1000 # Number of simulations\n",
    "\n",
    "# Run M simulations of the Poisson process\n",
    "arrival_times = arrival.simulate_poisson(t0, t1, lambda_rate, M)\n",
    "\n",
    "# Get number of events in each simulation\n",
    "Ns = np.array([len(a) for a in arrival_times])\n",
    "\n",
    "# Theoretical probability\n",
    "X = np.array(range(Ns.min()-5, Ns.max()+5+1))\n",
    "theoretical = np.exp(-lambda_rate*t1) * (t1*lambda_rate)**X / factorial(X)\n",
    "\n",
    "# Plot\n",
    "plt.hist(Ns, density=True)\n",
    "plt.plot(X, theoretical)\n",
    "plt.show()"
   ]
  },
  {
   "cell_type": "code",
   "execution_count": null,
   "metadata": {},
   "outputs": [],
   "source": []
  },
  {
   "cell_type": "code",
   "execution_count": null,
   "metadata": {},
   "outputs": [],
   "source": []
  }
 ],
 "metadata": {
  "kernelspec": {
   "display_name": "Python 3",
   "language": "python",
   "name": "python3"
  },
  "language_info": {
   "codemirror_mode": {
    "name": "ipython",
    "version": 3
   },
   "file_extension": ".py",
   "mimetype": "text/x-python",
   "name": "python",
   "nbconvert_exporter": "python",
   "pygments_lexer": "ipython3",
   "version": "3.8.3"
  }
 },
 "nbformat": 4,
 "nbformat_minor": 4
}
