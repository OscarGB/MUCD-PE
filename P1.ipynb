{
 "cells": [
  {
   "cell_type": "code",
   "execution_count": 1,
   "metadata": {},
   "outputs": [],
   "source": [
    "import random\n",
    "import math\n",
    "import numpy as np"
   ]
  },
  {
   "cell_type": "code",
   "execution_count": 2,
   "metadata": {},
   "outputs": [
    {
     "data": {
      "text/html": [
       "<style>\n",
       "    h1, h2, h3 {color: #3d6f91;}\n",
       "    b, li, ul {color: #5D8AA8;}\n",
       "</style>\n"
      ],
      "text/plain": [
       "<IPython.core.display.HTML object>"
      ]
     },
     "metadata": {},
     "output_type": "display_data"
    }
   ],
   "source": [
    "%%html\n",
    "<style>\n",
    "    h1, h2, h3 {color: #3d6f91;}\n",
    "    b, li, ul {color: #5D8AA8;}\n",
    "</style>"
   ]
  },
  {
   "cell_type": "markdown",
   "metadata": {},
   "source": [
    "# Ejercicio 1\n",
    "\n",
    "<b>Se dibuja un cuadrado unitario (de lado 1) con un círculo unitario (de diámetro 1) inscrito. Se generan puntos aleatorios con distribución uniforme dentro del cuadrado.</b>\n",
    "\n",
    "1. ¿Cuál es el universo de eventos de este experimentos?\n",
    "\n",
    "El universo de eventos es: $\\Omega = \\{X1=$ Caer dentro del círculo, $X2=$ Caer fuera del círculo$\\}$\n",
    "\n",
    "2. ¿Cual es la probabilidad que un punto generado esté incluido dentro del círcuo?\n",
    "\n",
    "$P(X1) = \\frac{\\text{Área círculo}}{\\text{Área cuadrado}} = \\frac{\\pi}{4}$\n",
    "\n",
    "3. Usar la respuesta del punto 2. para escribir un programa que calcule $\\pi$ con tres cifras significativas.  Entregar el codigo (es corto...), el valor conseguido (primera cinco cifras decimales), explicar el criterio de parada que se ha usado para determinar cuando terminar el calculo (sin usar el valor de $\\pi$, claro...)  y el numero de puntos que se han generado.\n",
    "\n",
    "Sabemos que colocando puntos aleatoriamente en el cuadrado tenemos una probabiliad de caer dentro del círculo de $\\frac{\\pi}{4}$. Por tanto podemos calcular $\\pi = 4P(X1)$.\n",
    "\n",
    "Como criterio de parada utilizamos una tolerancia (`tol`) entre el valor de la anterior iteración y la actual. En caso de no cumplir con el criterio de parada se establece un número máximo de iteraciones (`max_iters`). Cada iteración generará un número determinado de puntos (`iter_size`)"
   ]
  },
  {
   "cell_type": "code",
   "execution_count": 3,
   "metadata": {},
   "outputs": [
    {
     "name": "stdout",
     "output_type": "stream",
     "text": [
      "Número de iteraciones: 452642\n",
      "Número de puntos: 45264300\n",
      "Valor de pi obtenido: 3.14189\n",
      "Error: 0.00030\n"
     ]
    }
   ],
   "source": [
    "# Constants\n",
    "tol = 1e-8\n",
    "max_iters = 1e6\n",
    "iter_size = 1e2\n",
    "\n",
    "# Variables\n",
    "inside = 0\n",
    "total = 0\n",
    "previous = -1\n",
    "\n",
    "random.seed(123)\n",
    "\n",
    "# Code\n",
    "for i in range(int(max_iters)):\n",
    "    for _ in range(int(iter_size)):\n",
    "        total += 1\n",
    "        # Generate x and y between -0.5 and 0.5\n",
    "        x = (random.random() - 0.5)**2\n",
    "        y = (random.random() - 0.5)**2\n",
    "        if math.sqrt(x+y) < 0.5:\n",
    "            inside += 1\n",
    "    actual = inside/total\n",
    "    if abs(actual - previous) < tol:\n",
    "        break\n",
    "    previous = actual\n",
    "        \n",
    "pi = 4*actual\n",
    "print(f\"Número de iteraciones: {i}\")\n",
    "print(f\"Número de puntos: {total}\")\n",
    "print(\"Valor de pi obtenido: {0:.5f}\".format(pi))\n",
    "print(\"Error: {0:.5f}\".format(abs(pi - np.pi)))"
   ]
  },
  {
   "cell_type": "markdown",
   "metadata": {},
   "source": [
    "# Ejercicio 2\n",
    "\n",
    "<b>Una caja contiene $r$ pelotas rojas y $b$ pelotas azules, $r≥1$ and $b≥3$. Se sacan tres pelotas de la caja (sin remplazar las que se han sacado).  Usando el concepto de probabilidad condicional, calcular la probabilidad que las tres pelotas salgan en secuencia azul, rojo, azul.</b>\n",
    "\n",
    "$P(pb, pr, pb) = P(pb | pr, pb)P(pr | pb)P(pb) = \\frac{b}{b+r} \\frac{r}{b+r-1} \\frac{b-1}{b+r-2}$"
   ]
  },
  {
   "cell_type": "markdown",
   "metadata": {},
   "source": [
    "# Ejercicio 3\n",
    "\n",
    "<b>Como ejercicio de probabilidad, este es muy fácil, pero es muy gracioso, me gusta, y quiero preguntarlo. Se trata del juego de las tres puertas.</b>\n",
    "    \n",
    "<b>Hay tres puertas, y detras de una de ellas hay un premio. El presentador os pide elegir una, sin abrirla. Después, abre una de las otras dos, y os muestra que allí no está el premio. Finalmente os pide si queréis cambiar la puerta o confirmar la elección inicial.</b>\n",
    "    \n",
    "<b>¿Cual es la decisión que maximiza la probabilidad de ganar, y qué probabilidad de ganar os da? </b>\n",
    "\n",
    "Sea $A$ = El concursante elige la puerta donde está el premio\n",
    "\n",
    "Sea $B$ = El concursante elige la puerta donde no está el premio\n",
    "\n",
    "Sea $G$ = El jugador gana el premio\n",
    "\n",
    "$P(A) = \\frac{1}{3}$\n",
    "\n",
    "$P(B) = \\frac{2}{3}$\n",
    "\n",
    "$P(G) = P(AG) + P(BG) = P(G|A)P(A) + P(G|B)P(B)$\n",
    "\n",
    "Supongamos que cambiamos de puerta:\n",
    "\n",
    "$P(G|A) = 0$ ya que hemos dejado la puerta con el premio y $P(G|B) = 1$ ya que cogemos la puerta co nel premio. Por tanto $P(G) = \\frac{2}{3}$\n",
    "\n",
    "Supongamos que no cambiamos de puerta:\n",
    "\n",
    "$P(G|A) = 1$ ya que mantenemos la puerta con el premio y $P(G|B) = 0$ ya que dejamos la puerta con el premio. Por tanto $P(G) = \\frac{1}{3}$\n",
    "\n",
    "Con estos resultados vemos que lo más adecuado es cambiar de puerta, independientemente de la puerta inicial que cojamos."
   ]
  },
  {
   "cell_type": "markdown",
   "metadata": {},
   "source": [
    "# Ejercicio 4\n",
    "\n",
    "<b>Dada la función $f(x) = \\frac{\\pi}{2}\\cos\\left(\\pi x\\right)$ si $|x| < \\frac{1}{2}$, $0$ resto. ¿Es una densidad de probabilidad?</b>\n",
    "\n",
    "Para que una función sea densidad de probabilidad, su integral en todo el dominio debe ser 1 y además debe ser no negativa en todo el dominio. \n",
    "\n",
    "$f(x) \\geq 0 \\space \\forall x \\in \\mathbb{R}$ \n",
    "\n",
    "$\\int^\\infty_{-\\infty} f(x) = \\int^{1/2}_{-1/2}f(x) = \\int^{1/2}_{-1/2}\\frac{\\pi}{2}\\cos\\left(\\pi x\\right) = \\frac{1}{2}\\int^{1/2}_{-1/2}\\pi\\cos\\left(\\pi x\\right) = \\frac{1}{2} \\left[\\sin(\\pi x)\\right]^{1/2}_{-1/2} = 1$\n",
    "\n",
    "Por tanto sí vemos que es una función de densidad."
   ]
  },
  {
   "cell_type": "markdown",
   "metadata": {},
   "source": [
    "# Ejercicio 5\n",
    "\n",
    "<b>Dada una cadena de Markov con un conjunto finito de estados $\\left\\{1,\\dots,M\\right\\}$, sea $p_m(t)$ la probabilidad que la cadena esté en el estado $m$ al instante $t$. Se define el vector $p(t) = \\left[p_1(t), \\dots, p_M(t)\\right]'$</b>\n",
    "\n",
    "1. Usar la definición de la matriz de transición P para demostrar que $p'(t+1) = p'(t)P$ y por tanto, si $\\lambda$ es la distribución inicial $p'(t+1) = \\lambda P$\n",
    "\n",
    "Podemos definir $P$ donde $P_{ij}$ es la probabilidad de pasar del estado i al j. Definamos la operación $p'(t+1) = p'(t)P$, se puede demostrar que $p_m(t+1) = \\sum^M_{i=1}P_{im}(t)p_i(t)$, es decir, es la probabilidad de llegar desde cualquier estado al estado $m$.\n",
    "\n",
    "Sea $\\lambda = p(0)$ el estado inicial, $p'(t) = p'(t-1)P = p'(t-2)P^2 = \\dots = p'(0)P^t$\n",
    "\n",
    "<b>Considerando la cadena de Markov aportada. Responder</b>\n",
    "\n",
    "2. Considerando $\\lambda = [1,0,0,0,0,0]'$, calcular $p(2)$, $p(10)$ y $p(100)$"
   ]
  },
  {
   "cell_type": "code",
   "execution_count": 4,
   "metadata": {},
   "outputs": [],
   "source": [
    "P = np.array([[0.5 , 0.5 , 0   , 0   , 0   , 0   ],\n",
    "              [0   , 0.5 , 0.5 , 0   , 0   , 0   ],\n",
    "              [0.25, 0   , 0.25, 0.25, 0.25, 0   ],\n",
    "              [0.25, 0   , 0.5 , 0.25, 0   , 0   ],\n",
    "              [0   , 0   , 0   , 0   , 0.5 , 0.5 ],\n",
    "              [0   , 0   , 0   , 0.25, 0.5 , 0.25]])\n",
    "\n",
    "lam = np.array([1, 0, 0, 0, 0, 0])"
   ]
  },
  {
   "cell_type": "code",
   "execution_count": 5,
   "metadata": {},
   "outputs": [],
   "source": [
    "def Markov(P, lam, niter):\n",
    "    P = np.linalg.matrix_power(P, niter)\n",
    "    return lam@P"
   ]
  },
  {
   "cell_type": "code",
   "execution_count": 6,
   "metadata": {},
   "outputs": [
    {
     "name": "stdout",
     "output_type": "stream",
     "text": [
      "[0.25 0.5  0.25 0.   0.   0.  ]\n",
      "[0.16009521 0.17276764 0.19525528 0.11034393 0.22227859 0.13925934]\n",
      "[0.14285714 0.14285714 0.17142857 0.11428571 0.25714286 0.17142857]\n"
     ]
    }
   ],
   "source": [
    "print(Markov(P, lam, 2))\n",
    "print(Markov(P, lam, 10))\n",
    "print(Markov(P, lam, 100))"
   ]
  },
  {
   "cell_type": "markdown",
   "metadata": {},
   "source": [
    "3. Repetir el cálculo de $p(2)$, $p(10)$ y $p(100)$ con $\\lambda = [0,0,1,0,0,0]'$"
   ]
  },
  {
   "cell_type": "code",
   "execution_count": 7,
   "metadata": {},
   "outputs": [
    {
     "name": "stdout",
     "output_type": "stream",
     "text": [
      "[0.25   0.125  0.1875 0.125  0.1875 0.125 ]\n",
      "[0.14878464 0.15279961 0.17943859 0.11302376 0.24539089 0.16056252]\n",
      "[0.14285714 0.14285714 0.17142857 0.11428571 0.25714286 0.17142857]\n"
     ]
    }
   ],
   "source": [
    "lam = np.array([0, 0, 1, 0, 0, 0])\n",
    "print(Markov(P, lam, 2))\n",
    "print(Markov(P, lam, 10))\n",
    "print(Markov(P, lam, 100))"
   ]
  },
  {
   "cell_type": "markdown",
   "metadata": {},
   "source": [
    "4. Repetir el cálculo de $p(2)$, $p(10)$ y $p(100)$ con $\\lambda = [0,0,0,0,0,1]'$"
   ]
  },
  {
   "cell_type": "code",
   "execution_count": 8,
   "metadata": {},
   "outputs": [
    {
     "name": "stdout",
     "output_type": "stream",
     "text": [
      "[0.0625 0.     0.125  0.125  0.375  0.3125]\n",
      "[0.13236713 0.12480164 0.15695381 0.11663246 0.27828407 0.19096088]\n",
      "[0.14285714 0.14285714 0.17142857 0.11428571 0.25714286 0.17142857]\n"
     ]
    }
   ],
   "source": [
    "lam = np.array([0, 0, 0, 0, 0, 1])\n",
    "print(Markov(P, lam, 2))\n",
    "print(Markov(P, lam, 10))\n",
    "print(Markov(P, lam, 100))"
   ]
  },
  {
   "cell_type": "markdown",
   "metadata": {},
   "source": [
    "5. ¿Cómo cambian los tres vectores? ¿Cómo cambia su dependencia de las condiciones iniciales? ¿Qué implica esto para $p(\\infty)$?\n",
    "\n",
    "Podemos ver que todos los $p(100)$ son idénticos independientemente del estado inicial en el que se encuentre el sistema. Por ello, suponemos que a partir de cierto instante $t_0$ podemos considerar un comportamiento estacionario del sistema.  Con todo, $p(\\infty) = \\left[0.14285714, 0.14285714, 0.17142857, 0.11428571, 0.25714286, 0.17142857\\right]'$"
   ]
  }
 ],
 "metadata": {
  "kernelspec": {
   "display_name": "Python 3",
   "language": "python",
   "name": "python3"
  },
  "language_info": {
   "codemirror_mode": {
    "name": "ipython",
    "version": 3
   },
   "file_extension": ".py",
   "mimetype": "text/x-python",
   "name": "python",
   "nbconvert_exporter": "python",
   "pygments_lexer": "ipython3",
   "version": "3.8.3"
  }
 },
 "nbformat": 4,
 "nbformat_minor": 4
}
